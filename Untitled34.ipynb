{
 "cells": [
  {
   "cell_type": "code",
   "execution_count": 1,
   "id": "0f23839a",
   "metadata": {},
   "outputs": [],
   "source": [
    "import  pandas as pd\n",
    "import numpy as np"
   ]
  },
  {
   "cell_type": "code",
   "execution_count": 2,
   "id": "78050fb3",
   "metadata": {},
   "outputs": [],
   "source": [
    "df = pd.read_csv(\"emails.csv\")"
   ]
  },
  {
   "cell_type": "code",
   "execution_count": 3,
   "id": "9546dd31",
   "metadata": {},
   "outputs": [
    {
     "data": {
      "text/html": [
       "<div>\n",
       "<style scoped>\n",
       "    .dataframe tbody tr th:only-of-type {\n",
       "        vertical-align: middle;\n",
       "    }\n",
       "\n",
       "    .dataframe tbody tr th {\n",
       "        vertical-align: top;\n",
       "    }\n",
       "\n",
       "    .dataframe thead th {\n",
       "        text-align: right;\n",
       "    }\n",
       "</style>\n",
       "<table border=\"1\" class=\"dataframe\">\n",
       "  <thead>\n",
       "    <tr style=\"text-align: right;\">\n",
       "      <th></th>\n",
       "      <th>file</th>\n",
       "      <th>message</th>\n",
       "    </tr>\n",
       "  </thead>\n",
       "  <tbody>\n",
       "    <tr>\n",
       "      <th>99016</th>\n",
       "      <td>ermis-f/inbox/530.</td>\n",
       "      <td>Message-ID: &lt;29349376.1075861337074.JavaMail.e...</td>\n",
       "    </tr>\n",
       "    <tr>\n",
       "      <th>311183</th>\n",
       "      <td>mann-k/discussion_threads/1367.</td>\n",
       "      <td>Message-ID: &lt;3510913.1075845785725.JavaMail.ev...</td>\n",
       "    </tr>\n",
       "    <tr>\n",
       "      <th>151845</th>\n",
       "      <td>haedicke-m/all_documents/1246.</td>\n",
       "      <td>Message-ID: &lt;30909239.1075845028666.JavaMail.e...</td>\n",
       "    </tr>\n",
       "    <tr>\n",
       "      <th>428737</th>\n",
       "      <td>shackleton-s/sent/5225.</td>\n",
       "      <td>Message-ID: &lt;11754924.1075844901800.JavaMail.e...</td>\n",
       "    </tr>\n",
       "    <tr>\n",
       "      <th>29439</th>\n",
       "      <td>beck-s/inbox/599.</td>\n",
       "      <td>Message-ID: &lt;1960982.1075862307586.JavaMail.ev...</td>\n",
       "    </tr>\n",
       "  </tbody>\n",
       "</table>\n",
       "</div>"
      ],
      "text/plain": [
       "                                   file  \\\n",
       "99016                ermis-f/inbox/530.   \n",
       "311183  mann-k/discussion_threads/1367.   \n",
       "151845   haedicke-m/all_documents/1246.   \n",
       "428737          shackleton-s/sent/5225.   \n",
       "29439                 beck-s/inbox/599.   \n",
       "\n",
       "                                                  message  \n",
       "99016   Message-ID: <29349376.1075861337074.JavaMail.e...  \n",
       "311183  Message-ID: <3510913.1075845785725.JavaMail.ev...  \n",
       "151845  Message-ID: <30909239.1075845028666.JavaMail.e...  \n",
       "428737  Message-ID: <11754924.1075844901800.JavaMail.e...  \n",
       "29439   Message-ID: <1960982.1075862307586.JavaMail.ev...  "
      ]
     },
     "execution_count": 3,
     "metadata": {},
     "output_type": "execute_result"
    }
   ],
   "source": [
    "df.sample(5)"
   ]
  },
  {
   "cell_type": "code",
   "execution_count": 4,
   "id": "09457b41",
   "metadata": {},
   "outputs": [
    {
     "name": "stdout",
     "output_type": "stream",
     "text": [
      "<class 'pandas.core.frame.DataFrame'>\n",
      "RangeIndex: 517401 entries, 0 to 517400\n",
      "Data columns (total 2 columns):\n",
      " #   Column   Non-Null Count   Dtype \n",
      "---  ------   --------------   ----- \n",
      " 0   file     517401 non-null  object\n",
      " 1   message  517401 non-null  object\n",
      "dtypes: object(2)\n",
      "memory usage: 7.9+ MB\n"
     ]
    }
   ],
   "source": [
    "df.info()"
   ]
  },
  {
   "cell_type": "code",
   "execution_count": 5,
   "id": "7bc19fe3",
   "metadata": {},
   "outputs": [],
   "source": [
    " sample = df['message'].sample(1)"
   ]
  },
  {
   "cell_type": "code",
   "execution_count": 6,
   "id": "25bc4050",
   "metadata": {},
   "outputs": [
    {
     "name": "stdout",
     "output_type": "stream",
     "text": [
      "Message-ID: <21557135.1075857797361.JavaMail.evans@thyme>\n",
      "Date: Mon, 4 Dec 2000 08:48:00 -0800 (PST)\n",
      "From: joe.quenet@enron.com\n",
      "To: kellybrynne@aol.com\n",
      "Subject: Re: Hey There\n",
      "Mime-Version: 1.0\n",
      "Content-Type: text/plain; charset=us-ascii\n",
      "Content-Transfer-Encoding: 7bit\n",
      "X-From: Joe Quenet\n",
      "X-To: KELLYBRYNNE@aol.com\n",
      "X-cc: \n",
      "X-bcc: \n",
      "X-Folder: \\Joseph_Quenet_Dec2000\\Notes Folders\\All documents\n",
      "X-Origin: Quenet-J\n",
      "X-FileName: jquenet.nsf\n",
      "\n",
      "godd luck with the interview..........craziest day I ever saw......f/g traded \n",
      "$75.00 ( up 19.00 today)   h/j  is up $8.50 , may is up $ 8.50 june is $92.00 \n",
      "up $8.00, summer is $138 ( up $9.00) sep is $45.00 (up 2.00),  q4  is $43.00 \n",
      "( up $4.00)......cal 01 off peak went up $.80, cal 01 was up $9.0, cal 02 was \n",
      "up $6.00....\n",
      "\n",
      "  winter cin is $69.0 (up $20.00 today)........cal 01 cin is $74.0 (up \n",
      "$11.00) today........\n",
      "\n",
      "  this makes no sense..................\n",
      "\n",
      "  going home for beers and rest........\n",
      "\n",
      " later, \n"
     ]
    }
   ],
   "source": [
    "for i in sample:\n",
    "    print(i,end='\\n')"
   ]
  },
  {
   "cell_type": "markdown",
   "id": "9114b2f3",
   "metadata": {},
   "source": [
    "# WE CAN SEE  THAT MESSAGE COLUMN CONTAINS SOME INIFORMATION, SO, LET'S EXTRACT THOSE INFORMATION"
   ]
  },
  {
   "cell_type": "code",
   "execution_count": 7,
   "id": "f2524bfa",
   "metadata": {},
   "outputs": [],
   "source": [
    "# TAKE SAMPLE FROM DATASET BECAUSE IT'S A LARGE DATASET"
   ]
  },
  {
   "cell_type": "code",
   "execution_count": 8,
   "id": "ee553f5a",
   "metadata": {},
   "outputs": [],
   "source": [
    "data = df.sample(n=30000,random_state=1)"
   ]
  },
  {
   "cell_type": "code",
   "execution_count": 9,
   "id": "6ee0f33e",
   "metadata": {},
   "outputs": [
    {
     "name": "stdout",
     "output_type": "stream",
     "text": [
      "<class 'pandas.core.frame.DataFrame'>\n",
      "Int64Index: 30000 entries, 186822 to 313840\n",
      "Data columns (total 2 columns):\n",
      " #   Column   Non-Null Count  Dtype \n",
      "---  ------   --------------  ----- \n",
      " 0   file     30000 non-null  object\n",
      " 1   message  30000 non-null  object\n",
      "dtypes: object(2)\n",
      "memory usage: 703.1+ KB\n"
     ]
    }
   ],
   "source": [
    "data.info()"
   ]
  },
  {
   "cell_type": "code",
   "execution_count": 10,
   "id": "26d028f5",
   "metadata": {},
   "outputs": [],
   "source": [
    "# LET'S EXTRACT INFORMATION\n",
    "import email"
   ]
  },
  {
   "cell_type": "code",
   "execution_count": 11,
   "id": "2b009784",
   "metadata": {},
   "outputs": [],
   "source": [
    "emails = list(map(email.parser.Parser().parsestr,data['message']))"
   ]
  },
  {
   "cell_type": "code",
   "execution_count": 12,
   "id": "24a8aafe",
   "metadata": {},
   "outputs": [
    {
     "data": {
      "text/plain": [
       "['Message-ID',\n",
       " 'Date',\n",
       " 'From',\n",
       " 'To',\n",
       " 'Subject',\n",
       " 'Mime-Version',\n",
       " 'Content-Type',\n",
       " 'Content-Transfer-Encoding',\n",
       " 'X-From',\n",
       " 'X-To',\n",
       " 'X-cc',\n",
       " 'X-bcc',\n",
       " 'X-Folder',\n",
       " 'X-Origin',\n",
       " 'X-FileName']"
      ]
     },
     "execution_count": 12,
     "metadata": {},
     "output_type": "execute_result"
    }
   ],
   "source": [
    "emails[0].keys()"
   ]
  },
  {
   "cell_type": "code",
   "execution_count": 13,
   "id": "7df0576f",
   "metadata": {},
   "outputs": [],
   "source": [
    "title = emails[0].keys()"
   ]
  },
  {
   "cell_type": "code",
   "execution_count": 14,
   "id": "ce91e968",
   "metadata": {},
   "outputs": [],
   "source": [
    "#  Goes through each email and grabs info for each key"
   ]
  },
  {
   "cell_type": "code",
   "execution_count": 15,
   "id": "38fbffe0",
   "metadata": {},
   "outputs": [],
   "source": [
    "for i in title:\n",
    "    data[i] = [doc[i] for doc in emails]"
   ]
  },
  {
   "cell_type": "code",
   "execution_count": 16,
   "id": "a75c25df",
   "metadata": {},
   "outputs": [
    {
     "data": {
      "text/html": [
       "<div>\n",
       "<style scoped>\n",
       "    .dataframe tbody tr th:only-of-type {\n",
       "        vertical-align: middle;\n",
       "    }\n",
       "\n",
       "    .dataframe tbody tr th {\n",
       "        vertical-align: top;\n",
       "    }\n",
       "\n",
       "    .dataframe thead th {\n",
       "        text-align: right;\n",
       "    }\n",
       "</style>\n",
       "<table border=\"1\" class=\"dataframe\">\n",
       "  <thead>\n",
       "    <tr style=\"text-align: right;\">\n",
       "      <th></th>\n",
       "      <th>file</th>\n",
       "      <th>message</th>\n",
       "      <th>Message-ID</th>\n",
       "      <th>Date</th>\n",
       "      <th>From</th>\n",
       "      <th>To</th>\n",
       "      <th>Subject</th>\n",
       "      <th>Mime-Version</th>\n",
       "      <th>Content-Type</th>\n",
       "      <th>Content-Transfer-Encoding</th>\n",
       "      <th>X-From</th>\n",
       "      <th>X-To</th>\n",
       "      <th>X-cc</th>\n",
       "      <th>X-bcc</th>\n",
       "      <th>X-Folder</th>\n",
       "      <th>X-Origin</th>\n",
       "      <th>X-FileName</th>\n",
       "    </tr>\n",
       "  </thead>\n",
       "  <tbody>\n",
       "    <tr>\n",
       "      <th>198417</th>\n",
       "      <td>jones-t/sent/6410.</td>\n",
       "      <td>Message-ID: &lt;2955004.1075847567505.JavaMail.ev...</td>\n",
       "      <td>&lt;2955004.1075847567505.JavaMail.evans@thyme&gt;</td>\n",
       "      <td>Wed, 30 May 2001 03:43:00 -0700 (PDT)</td>\n",
       "      <td>tana.jones@enron.com</td>\n",
       "      <td>fred.philipson@enron.com</td>\n",
       "      <td>RE: NDAs for Pan Handle Eastern Pipeline co</td>\n",
       "      <td>1.0</td>\n",
       "      <td>text/plain; charset=us-ascii</td>\n",
       "      <td>7bit</td>\n",
       "      <td>Tana Jones</td>\n",
       "      <td>Fred Philipson</td>\n",
       "      <td></td>\n",
       "      <td></td>\n",
       "      <td>\\Tanya_Jones_June2001\\Notes Folders\\Sent</td>\n",
       "      <td>JONES-T</td>\n",
       "      <td>tjones.nsf</td>\n",
       "    </tr>\n",
       "    <tr>\n",
       "      <th>145963</th>\n",
       "      <td>guzman-m/all_documents/1082.</td>\n",
       "      <td>Message-ID: &lt;24746290.1075840610183.JavaMail.e...</td>\n",
       "      <td>&lt;24746290.1075840610183.JavaMail.evans@thyme&gt;</td>\n",
       "      <td>Tue, 27 Feb 2001 09:39:00 -0800 (PST)</td>\n",
       "      <td>pete.davis@enron.com</td>\n",
       "      <td>pete.davis@enron.com</td>\n",
       "      <td>Start Date: 2/27/01; HourAhead hour: 18;  &lt;COD...</td>\n",
       "      <td>1.0</td>\n",
       "      <td>text/plain; charset=us-ascii</td>\n",
       "      <td>7bit</td>\n",
       "      <td>Schedule Crawler&lt;pete.davis@enron.com&gt;</td>\n",
       "      <td>pete.davis@enron.com</td>\n",
       "      <td>bert.meyers@enron.com, bill.williams.III@enron...</td>\n",
       "      <td></td>\n",
       "      <td>\\mark guzman 6-28-02\\Notes Folders\\All documents</td>\n",
       "      <td>GUZMAN-M</td>\n",
       "      <td>mark guzman 6-28-02.nsf</td>\n",
       "    </tr>\n",
       "    <tr>\n",
       "      <th>290699</th>\n",
       "      <td>lokey-t/inbox/254.</td>\n",
       "      <td>Message-ID: &lt;31123081.1075858975278.JavaMail.e...</td>\n",
       "      <td>&lt;31123081.1075858975278.JavaMail.evans@thyme&gt;</td>\n",
       "      <td>Wed, 26 Sep 2001 11:15:44 -0700 (PDT)</td>\n",
       "      <td>glen.hass@enron.com</td>\n",
       "      <td>drew.fossum@enron.com, bret.fritch@enron.com, ...</td>\n",
       "      <td>CA Capacity Report</td>\n",
       "      <td>1.0</td>\n",
       "      <td>text/plain; charset=us-ascii</td>\n",
       "      <td>7bit</td>\n",
       "      <td>Hass, Glen &lt;/O=ENRON/OU=NA/CN=RECIPIENTS/CN=GH...</td>\n",
       "      <td>Fossum, Drew &lt;/O=ENRON/OU=NA/CN=RECIPIENTS/CN=...</td>\n",
       "      <td></td>\n",
       "      <td></td>\n",
       "      <td>\\TLOKEY (Non-Privileged)\\Inbox</td>\n",
       "      <td>Lokey-T</td>\n",
       "      <td>TLOKEY (Non-Privileged).pst</td>\n",
       "    </tr>\n",
       "    <tr>\n",
       "      <th>298852</th>\n",
       "      <td>maggi-m/deleted_items/773.</td>\n",
       "      <td>Message-ID: &lt;5555865.1075845235508.JavaMail.ev...</td>\n",
       "      <td>&lt;5555865.1075845235508.JavaMail.evans@thyme&gt;</td>\n",
       "      <td>Wed, 6 Jun 2001 11:53:02 -0700 (PDT)</td>\n",
       "      <td>mark@capstone-ta.com</td>\n",
       "      <td>capstone@texas.net</td>\n",
       "      <td>AGA Weekly Data</td>\n",
       "      <td>1.0</td>\n",
       "      <td>text/plain; charset=us-ascii</td>\n",
       "      <td>7bit</td>\n",
       "      <td>\"Capstone Trading Advisors\" &lt;mark@capstone-ta....</td>\n",
       "      <td>Capstone &lt;capstone@texas.net&gt;</td>\n",
       "      <td></td>\n",
       "      <td></td>\n",
       "      <td>\\Maggi, Mike\\Maggi, Mike\\Deleted Items</td>\n",
       "      <td>MAGGI-M</td>\n",
       "      <td>Maggi, Mike.pst</td>\n",
       "    </tr>\n",
       "    <tr>\n",
       "      <th>120469</th>\n",
       "      <td>gay-r/all_documents/303.</td>\n",
       "      <td>Message-ID: &lt;8485144.1075855736009.JavaMail.ev...</td>\n",
       "      <td>&lt;8485144.1075855736009.JavaMail.evans@thyme&gt;</td>\n",
       "      <td>Thu, 3 Aug 2000 23:58:00 -0700 (PDT)</td>\n",
       "      <td>randall.gay@enron.com</td>\n",
       "      <td>jacqueline.adams@enron.com, natalie.baker@enro...</td>\n",
       "      <td>SITARA/CPR AVAILABITY</td>\n",
       "      <td>1.0</td>\n",
       "      <td>text/plain; charset=us-ascii</td>\n",
       "      <td>7bit</td>\n",
       "      <td>Randall L Gay</td>\n",
       "      <td>Jacqueline P Adams, Natalie Baker, Stacey J Br...</td>\n",
       "      <td></td>\n",
       "      <td></td>\n",
       "      <td>\\Randall_Gay_Dec2000\\Notes Folders\\All documents</td>\n",
       "      <td>Gay-R</td>\n",
       "      <td>rgay.nsf</td>\n",
       "    </tr>\n",
       "  </tbody>\n",
       "</table>\n",
       "</div>"
      ],
      "text/plain": [
       "                                file  \\\n",
       "198417            jones-t/sent/6410.   \n",
       "145963  guzman-m/all_documents/1082.   \n",
       "290699            lokey-t/inbox/254.   \n",
       "298852    maggi-m/deleted_items/773.   \n",
       "120469      gay-r/all_documents/303.   \n",
       "\n",
       "                                                  message  \\\n",
       "198417  Message-ID: <2955004.1075847567505.JavaMail.ev...   \n",
       "145963  Message-ID: <24746290.1075840610183.JavaMail.e...   \n",
       "290699  Message-ID: <31123081.1075858975278.JavaMail.e...   \n",
       "298852  Message-ID: <5555865.1075845235508.JavaMail.ev...   \n",
       "120469  Message-ID: <8485144.1075855736009.JavaMail.ev...   \n",
       "\n",
       "                                           Message-ID  \\\n",
       "198417   <2955004.1075847567505.JavaMail.evans@thyme>   \n",
       "145963  <24746290.1075840610183.JavaMail.evans@thyme>   \n",
       "290699  <31123081.1075858975278.JavaMail.evans@thyme>   \n",
       "298852   <5555865.1075845235508.JavaMail.evans@thyme>   \n",
       "120469   <8485144.1075855736009.JavaMail.evans@thyme>   \n",
       "\n",
       "                                         Date                   From  \\\n",
       "198417  Wed, 30 May 2001 03:43:00 -0700 (PDT)   tana.jones@enron.com   \n",
       "145963  Tue, 27 Feb 2001 09:39:00 -0800 (PST)   pete.davis@enron.com   \n",
       "290699  Wed, 26 Sep 2001 11:15:44 -0700 (PDT)    glen.hass@enron.com   \n",
       "298852   Wed, 6 Jun 2001 11:53:02 -0700 (PDT)   mark@capstone-ta.com   \n",
       "120469   Thu, 3 Aug 2000 23:58:00 -0700 (PDT)  randall.gay@enron.com   \n",
       "\n",
       "                                                       To  \\\n",
       "198417                           fred.philipson@enron.com   \n",
       "145963                               pete.davis@enron.com   \n",
       "290699  drew.fossum@enron.com, bret.fritch@enron.com, ...   \n",
       "298852                                 capstone@texas.net   \n",
       "120469  jacqueline.adams@enron.com, natalie.baker@enro...   \n",
       "\n",
       "                                                  Subject Mime-Version  \\\n",
       "198417        RE: NDAs for Pan Handle Eastern Pipeline co          1.0   \n",
       "145963  Start Date: 2/27/01; HourAhead hour: 18;  <COD...          1.0   \n",
       "290699                                 CA Capacity Report          1.0   \n",
       "298852                                    AGA Weekly Data          1.0   \n",
       "120469                              SITARA/CPR AVAILABITY          1.0   \n",
       "\n",
       "                        Content-Type Content-Transfer-Encoding  \\\n",
       "198417  text/plain; charset=us-ascii                      7bit   \n",
       "145963  text/plain; charset=us-ascii                      7bit   \n",
       "290699  text/plain; charset=us-ascii                      7bit   \n",
       "298852  text/plain; charset=us-ascii                      7bit   \n",
       "120469  text/plain; charset=us-ascii                      7bit   \n",
       "\n",
       "                                                   X-From  \\\n",
       "198417                                         Tana Jones   \n",
       "145963             Schedule Crawler<pete.davis@enron.com>   \n",
       "290699  Hass, Glen </O=ENRON/OU=NA/CN=RECIPIENTS/CN=GH...   \n",
       "298852  \"Capstone Trading Advisors\" <mark@capstone-ta....   \n",
       "120469                                      Randall L Gay   \n",
       "\n",
       "                                                     X-To  \\\n",
       "198417                                     Fred Philipson   \n",
       "145963                               pete.davis@enron.com   \n",
       "290699  Fossum, Drew </O=ENRON/OU=NA/CN=RECIPIENTS/CN=...   \n",
       "298852                      Capstone <capstone@texas.net>   \n",
       "120469  Jacqueline P Adams, Natalie Baker, Stacey J Br...   \n",
       "\n",
       "                                                     X-cc X-bcc  \\\n",
       "198417                                                            \n",
       "145963  bert.meyers@enron.com, bill.williams.III@enron...         \n",
       "290699                                                            \n",
       "298852                                                            \n",
       "120469                                                            \n",
       "\n",
       "                                                X-Folder  X-Origin  \\\n",
       "198417          \\Tanya_Jones_June2001\\Notes Folders\\Sent   JONES-T   \n",
       "145963  \\mark guzman 6-28-02\\Notes Folders\\All documents  GUZMAN-M   \n",
       "290699                    \\TLOKEY (Non-Privileged)\\Inbox   Lokey-T   \n",
       "298852            \\Maggi, Mike\\Maggi, Mike\\Deleted Items   MAGGI-M   \n",
       "120469  \\Randall_Gay_Dec2000\\Notes Folders\\All documents     Gay-R   \n",
       "\n",
       "                         X-FileName  \n",
       "198417                   tjones.nsf  \n",
       "145963      mark guzman 6-28-02.nsf  \n",
       "290699  TLOKEY (Non-Privileged).pst  \n",
       "298852              Maggi, Mike.pst  \n",
       "120469                     rgay.nsf  "
      ]
     },
     "execution_count": 16,
     "metadata": {},
     "output_type": "execute_result"
    }
   ],
   "source": [
    "data.sample(5)"
   ]
  },
  {
   "cell_type": "code",
   "execution_count": 17,
   "id": "6f474a45",
   "metadata": {},
   "outputs": [],
   "source": [
    "# Making a function to extract information\n",
    "# Read about walk function"
   ]
  },
  {
   "cell_type": "code",
   "execution_count": 18,
   "id": "daec2325",
   "metadata": {},
   "outputs": [],
   "source": [
    "def get_text(emails):\n",
    "    text = []\n",
    "    for i in emails.walk():\n",
    "        if i.get_content_type()==\"text/plain\":\n",
    "            text.append(i.get_payload())\n",
    "    return ''.join(text)   "
   ]
  },
  {
   "cell_type": "code",
   "execution_count": 19,
   "id": "2aab913e",
   "metadata": {},
   "outputs": [
    {
     "data": {
      "text/plain": [
       "'Christine:\\n\\nMy apologies.  My schedule melted down after we talked on Monday.  Here\\'s \\nwhere folks came out.  There\\'s some concern about size.  We\\'re supposed to be \\nno larger than 3, but we lobbied Aceves and he apparently Ok\\'d our \\n\"oversized\" group.  The other folks in the group--who talked to him \\noriginally--are pretty sure that five will violate the rules.  Folks wondered \\nif there were other groups that are smaller than ours that you could hook up \\nwith.  Sorry about that---it\\'s a wrinkle that I didn\\'t think about when we \\nspoke.  If it gets real ugly trying to find a smaller group, let me know.  \\nFortunately there\\'s not another team case due for two weeks.\\n\\nBest,\\nJeff'"
      ]
     },
     "execution_count": 19,
     "metadata": {},
     "output_type": "execute_result"
    }
   ],
   "source": [
    "list(map(get_text, emails))[2]"
   ]
  },
  {
   "cell_type": "code",
   "execution_count": 20,
   "id": "582250d6",
   "metadata": {},
   "outputs": [],
   "source": [
    "data['body'] = list(map(get_text, emails))"
   ]
  },
  {
   "cell_type": "code",
   "execution_count": 21,
   "id": "3000d98a",
   "metadata": {},
   "outputs": [
    {
     "data": {
      "text/html": [
       "<div>\n",
       "<style scoped>\n",
       "    .dataframe tbody tr th:only-of-type {\n",
       "        vertical-align: middle;\n",
       "    }\n",
       "\n",
       "    .dataframe tbody tr th {\n",
       "        vertical-align: top;\n",
       "    }\n",
       "\n",
       "    .dataframe thead th {\n",
       "        text-align: right;\n",
       "    }\n",
       "</style>\n",
       "<table border=\"1\" class=\"dataframe\">\n",
       "  <thead>\n",
       "    <tr style=\"text-align: right;\">\n",
       "      <th></th>\n",
       "      <th>file</th>\n",
       "      <th>message</th>\n",
       "      <th>Message-ID</th>\n",
       "      <th>Date</th>\n",
       "      <th>From</th>\n",
       "      <th>To</th>\n",
       "      <th>Subject</th>\n",
       "      <th>Mime-Version</th>\n",
       "      <th>Content-Type</th>\n",
       "      <th>Content-Transfer-Encoding</th>\n",
       "      <th>X-From</th>\n",
       "      <th>X-To</th>\n",
       "      <th>X-cc</th>\n",
       "      <th>X-bcc</th>\n",
       "      <th>X-Folder</th>\n",
       "      <th>X-Origin</th>\n",
       "      <th>X-FileName</th>\n",
       "      <th>body</th>\n",
       "    </tr>\n",
       "  </thead>\n",
       "  <tbody>\n",
       "    <tr>\n",
       "      <th>186822</th>\n",
       "      <td>jones-t/all_documents/634.</td>\n",
       "      <td>Message-ID: &lt;17820178.1075846925335.JavaMail.e...</td>\n",
       "      <td>&lt;17820178.1075846925335.JavaMail.evans@thyme&gt;</td>\n",
       "      <td>Tue, 4 Jan 2000 08:20:00 -0800 (PST)</td>\n",
       "      <td>tana.jones@enron.com</td>\n",
       "      <td>alicia.goodrow@enron.com</td>\n",
       "      <td>Re: Dinner</td>\n",
       "      <td>1.0</td>\n",
       "      <td>text/plain; charset=us-ascii</td>\n",
       "      <td>7bit</td>\n",
       "      <td>Tana Jones</td>\n",
       "      <td>Alicia Goodrow</td>\n",
       "      <td></td>\n",
       "      <td></td>\n",
       "      <td>\\Tanya_Jones_Dec2000\\Notes Folders\\All documents</td>\n",
       "      <td>JONES-T</td>\n",
       "      <td>tjones.nsf</td>\n",
       "      <td>It would be nice if you could be at my dinner,...</td>\n",
       "    </tr>\n",
       "    <tr>\n",
       "      <th>308790</th>\n",
       "      <td>mann-k/all_documents/5690.</td>\n",
       "      <td>Message-ID: &lt;29110382.1075845717882.JavaMail.e...</td>\n",
       "      <td>&lt;29110382.1075845717882.JavaMail.evans@thyme&gt;</td>\n",
       "      <td>Tue, 15 May 2001 11:03:00 -0700 (PDT)</td>\n",
       "      <td>kay.mann@enron.com</td>\n",
       "      <td>sheila.tweed@enron.com</td>\n",
       "      <td>Re: Override letter</td>\n",
       "      <td>1.0</td>\n",
       "      <td>text/plain; charset=us-ascii</td>\n",
       "      <td>7bit</td>\n",
       "      <td>Kay Mann</td>\n",
       "      <td>Sheila Tweed</td>\n",
       "      <td></td>\n",
       "      <td></td>\n",
       "      <td>\\Kay_Mann_June2001_1\\Notes Folders\\All documents</td>\n",
       "      <td>MANN-K</td>\n",
       "      <td>kmann.nsf</td>\n",
       "      <td>Absolutely.  \\n\\n\\nFrom: Sheila Tweed@ECT on 0...</td>\n",
       "    </tr>\n",
       "    <tr>\n",
       "      <th>82383</th>\n",
       "      <td>dasovich-j/sent/423.</td>\n",
       "      <td>Message-ID: &lt;6812040.1075843194135.JavaMail.ev...</td>\n",
       "      <td>&lt;6812040.1075843194135.JavaMail.evans@thyme&gt;</td>\n",
       "      <td>Thu, 28 Sep 2000 08:59:00 -0700 (PDT)</td>\n",
       "      <td>jeff.dasovich@enron.com</td>\n",
       "      <td>christine.piesco@oracle.com</td>\n",
       "      <td>Teams</td>\n",
       "      <td>1.0</td>\n",
       "      <td>text/plain; charset=us-ascii</td>\n",
       "      <td>7bit</td>\n",
       "      <td>Jeff Dasovich</td>\n",
       "      <td>Christine.Piesco@oracle.com</td>\n",
       "      <td></td>\n",
       "      <td></td>\n",
       "      <td>\\Jeff_Dasovich_Dec2000\\Notes Folders\\Sent</td>\n",
       "      <td>DASOVICH-J</td>\n",
       "      <td>jdasovic.nsf</td>\n",
       "      <td>Christine:\\n\\nMy apologies.  My schedule melte...</td>\n",
       "    </tr>\n",
       "    <tr>\n",
       "      <th>227299</th>\n",
       "      <td>kaminski-v/var/63.</td>\n",
       "      <td>Message-ID: &lt;21547648.1075856642126.JavaMail.e...</td>\n",
       "      <td>&lt;21547648.1075856642126.JavaMail.evans@thyme&gt;</td>\n",
       "      <td>Mon, 9 Oct 2000 01:23:00 -0700 (PDT)</td>\n",
       "      <td>tanya.tamarchenko@enron.com</td>\n",
       "      <td>vince.kaminski@enron.com</td>\n",
       "      <td>Re: FYI: UK Var issues</td>\n",
       "      <td>1.0</td>\n",
       "      <td>text/plain; charset=us-ascii</td>\n",
       "      <td>7bit</td>\n",
       "      <td>Tanya Tamarchenko</td>\n",
       "      <td>Vince J Kaminski</td>\n",
       "      <td></td>\n",
       "      <td></td>\n",
       "      <td>\\Vincent_Kaminski_Jun2001_5\\Notes Folders\\Var</td>\n",
       "      <td>Kaminski-V</td>\n",
       "      <td>vkamins.nsf</td>\n",
       "      <td>Vince, \\nUK VAR breached the limit last week.\\...</td>\n",
       "    </tr>\n",
       "    <tr>\n",
       "      <th>301824</th>\n",
       "      <td>mann-k/_sent_mail/3208.</td>\n",
       "      <td>Message-ID: &lt;12684200.1075846107179.JavaMail.e...</td>\n",
       "      <td>&lt;12684200.1075846107179.JavaMail.evans@thyme&gt;</td>\n",
       "      <td>Fri, 13 Oct 2000 01:50:00 -0700 (PDT)</td>\n",
       "      <td>kay.mann@enron.com</td>\n",
       "      <td>lisa.bills@enron.com, ben.jacoby@enron.com</td>\n",
       "      <td>Change Order #5--Pleasanton Transformer</td>\n",
       "      <td>1.0</td>\n",
       "      <td>text/plain; charset=us-ascii</td>\n",
       "      <td>7bit</td>\n",
       "      <td>Kay Mann</td>\n",
       "      <td>Lisa Bills, Ben Jacoby</td>\n",
       "      <td></td>\n",
       "      <td></td>\n",
       "      <td>\\Kay_Mann_June2001_4\\Notes Folders\\'sent mail</td>\n",
       "      <td>MANN-K</td>\n",
       "      <td>kmann.nsf</td>\n",
       "      <td>Any problems/comments?\\n----------------------...</td>\n",
       "    </tr>\n",
       "  </tbody>\n",
       "</table>\n",
       "</div>"
      ],
      "text/plain": [
       "                              file  \\\n",
       "186822  jones-t/all_documents/634.   \n",
       "308790  mann-k/all_documents/5690.   \n",
       "82383         dasovich-j/sent/423.   \n",
       "227299          kaminski-v/var/63.   \n",
       "301824     mann-k/_sent_mail/3208.   \n",
       "\n",
       "                                                  message  \\\n",
       "186822  Message-ID: <17820178.1075846925335.JavaMail.e...   \n",
       "308790  Message-ID: <29110382.1075845717882.JavaMail.e...   \n",
       "82383   Message-ID: <6812040.1075843194135.JavaMail.ev...   \n",
       "227299  Message-ID: <21547648.1075856642126.JavaMail.e...   \n",
       "301824  Message-ID: <12684200.1075846107179.JavaMail.e...   \n",
       "\n",
       "                                           Message-ID  \\\n",
       "186822  <17820178.1075846925335.JavaMail.evans@thyme>   \n",
       "308790  <29110382.1075845717882.JavaMail.evans@thyme>   \n",
       "82383    <6812040.1075843194135.JavaMail.evans@thyme>   \n",
       "227299  <21547648.1075856642126.JavaMail.evans@thyme>   \n",
       "301824  <12684200.1075846107179.JavaMail.evans@thyme>   \n",
       "\n",
       "                                         Date                         From  \\\n",
       "186822   Tue, 4 Jan 2000 08:20:00 -0800 (PST)         tana.jones@enron.com   \n",
       "308790  Tue, 15 May 2001 11:03:00 -0700 (PDT)           kay.mann@enron.com   \n",
       "82383   Thu, 28 Sep 2000 08:59:00 -0700 (PDT)      jeff.dasovich@enron.com   \n",
       "227299   Mon, 9 Oct 2000 01:23:00 -0700 (PDT)  tanya.tamarchenko@enron.com   \n",
       "301824  Fri, 13 Oct 2000 01:50:00 -0700 (PDT)           kay.mann@enron.com   \n",
       "\n",
       "                                                To  \\\n",
       "186822                    alicia.goodrow@enron.com   \n",
       "308790                      sheila.tweed@enron.com   \n",
       "82383                  christine.piesco@oracle.com   \n",
       "227299                    vince.kaminski@enron.com   \n",
       "301824  lisa.bills@enron.com, ben.jacoby@enron.com   \n",
       "\n",
       "                                        Subject Mime-Version  \\\n",
       "186822                               Re: Dinner          1.0   \n",
       "308790                      Re: Override letter          1.0   \n",
       "82383                                     Teams          1.0   \n",
       "227299                   Re: FYI: UK Var issues          1.0   \n",
       "301824  Change Order #5--Pleasanton Transformer          1.0   \n",
       "\n",
       "                        Content-Type Content-Transfer-Encoding  \\\n",
       "186822  text/plain; charset=us-ascii                      7bit   \n",
       "308790  text/plain; charset=us-ascii                      7bit   \n",
       "82383   text/plain; charset=us-ascii                      7bit   \n",
       "227299  text/plain; charset=us-ascii                      7bit   \n",
       "301824  text/plain; charset=us-ascii                      7bit   \n",
       "\n",
       "                   X-From                         X-To X-cc X-bcc  \\\n",
       "186822         Tana Jones               Alicia Goodrow              \n",
       "308790           Kay Mann                 Sheila Tweed              \n",
       "82383       Jeff Dasovich  Christine.Piesco@oracle.com              \n",
       "227299  Tanya Tamarchenko             Vince J Kaminski              \n",
       "301824           Kay Mann       Lisa Bills, Ben Jacoby              \n",
       "\n",
       "                                                X-Folder    X-Origin  \\\n",
       "186822  \\Tanya_Jones_Dec2000\\Notes Folders\\All documents     JONES-T   \n",
       "308790  \\Kay_Mann_June2001_1\\Notes Folders\\All documents      MANN-K   \n",
       "82383          \\Jeff_Dasovich_Dec2000\\Notes Folders\\Sent  DASOVICH-J   \n",
       "227299     \\Vincent_Kaminski_Jun2001_5\\Notes Folders\\Var  Kaminski-V   \n",
       "301824     \\Kay_Mann_June2001_4\\Notes Folders\\'sent mail      MANN-K   \n",
       "\n",
       "          X-FileName                                               body  \n",
       "186822    tjones.nsf  It would be nice if you could be at my dinner,...  \n",
       "308790     kmann.nsf  Absolutely.  \\n\\n\\nFrom: Sheila Tweed@ECT on 0...  \n",
       "82383   jdasovic.nsf  Christine:\\n\\nMy apologies.  My schedule melte...  \n",
       "227299   vkamins.nsf  Vince, \\nUK VAR breached the limit last week.\\...  \n",
       "301824     kmann.nsf  Any problems/comments?\\n----------------------...  "
      ]
     },
     "execution_count": 21,
     "metadata": {},
     "output_type": "execute_result"
    }
   ],
   "source": [
    "data.head()"
   ]
  },
  {
   "cell_type": "code",
   "execution_count": 22,
   "id": "414a3bc7",
   "metadata": {},
   "outputs": [
    {
     "name": "stdout",
     "output_type": "stream",
     "text": [
      "<class 'pandas.core.frame.DataFrame'>\n",
      "Int64Index: 30000 entries, 186822 to 313840\n",
      "Data columns (total 18 columns):\n",
      " #   Column                     Non-Null Count  Dtype \n",
      "---  ------                     --------------  ----- \n",
      " 0   file                       30000 non-null  object\n",
      " 1   message                    30000 non-null  object\n",
      " 2   Message-ID                 30000 non-null  object\n",
      " 3   Date                       30000 non-null  object\n",
      " 4   From                       30000 non-null  object\n",
      " 5   To                         28702 non-null  object\n",
      " 6   Subject                    30000 non-null  object\n",
      " 7   Mime-Version               29998 non-null  object\n",
      " 8   Content-Type               29998 non-null  object\n",
      " 9   Content-Transfer-Encoding  29998 non-null  object\n",
      " 10  X-From                     29998 non-null  object\n",
      " 11  X-To                       29998 non-null  object\n",
      " 12  X-cc                       29998 non-null  object\n",
      " 13  X-bcc                      29998 non-null  object\n",
      " 14  X-Folder                   29998 non-null  object\n",
      " 15  X-Origin                   29998 non-null  object\n",
      " 16  X-FileName                 29998 non-null  object\n",
      " 17  body                       30000 non-null  object\n",
      "dtypes: object(18)\n",
      "memory usage: 4.3+ MB\n"
     ]
    }
   ],
   "source": [
    "data.info()"
   ]
  },
  {
   "cell_type": "code",
   "execution_count": 23,
   "id": "c7920047",
   "metadata": {},
   "outputs": [],
   "source": [
    "# CONVERTING DATE COLUMN INTO DATETIME"
   ]
  },
  {
   "cell_type": "code",
   "execution_count": 24,
   "id": "28669d2c",
   "metadata": {},
   "outputs": [],
   "source": [
    "data['Date'] = pd.to_datetime(data['Date'])"
   ]
  },
  {
   "cell_type": "code",
   "execution_count": 25,
   "id": "cfd2df4c",
   "metadata": {},
   "outputs": [
    {
     "name": "stdout",
     "output_type": "stream",
     "text": [
      "<class 'pandas.core.frame.DataFrame'>\n",
      "Int64Index: 30000 entries, 186822 to 313840\n",
      "Data columns (total 18 columns):\n",
      " #   Column                     Non-Null Count  Dtype \n",
      "---  ------                     --------------  ----- \n",
      " 0   file                       30000 non-null  object\n",
      " 1   message                    30000 non-null  object\n",
      " 2   Message-ID                 30000 non-null  object\n",
      " 3   Date                       30000 non-null  object\n",
      " 4   From                       30000 non-null  object\n",
      " 5   To                         28702 non-null  object\n",
      " 6   Subject                    30000 non-null  object\n",
      " 7   Mime-Version               29998 non-null  object\n",
      " 8   Content-Type               29998 non-null  object\n",
      " 9   Content-Transfer-Encoding  29998 non-null  object\n",
      " 10  X-From                     29998 non-null  object\n",
      " 11  X-To                       29998 non-null  object\n",
      " 12  X-cc                       29998 non-null  object\n",
      " 13  X-bcc                      29998 non-null  object\n",
      " 14  X-Folder                   29998 non-null  object\n",
      " 15  X-Origin                   29998 non-null  object\n",
      " 16  X-FileName                 29998 non-null  object\n",
      " 17  body                       30000 non-null  object\n",
      "dtypes: object(18)\n",
      "memory usage: 4.3+ MB\n"
     ]
    }
   ],
   "source": [
    "data.info()"
   ]
  },
  {
   "cell_type": "code",
   "execution_count": 26,
   "id": "a1007b74",
   "metadata": {},
   "outputs": [
    {
     "name": "stderr",
     "output_type": "stream",
     "text": [
      "[nltk_data] Downloading package wordnet to\n",
      "[nltk_data]     C:\\Users\\Asus\\AppData\\Roaming\\nltk_data...\n",
      "[nltk_data]   Package wordnet is already up-to-date!\n",
      "[nltk_data] Downloading package omw-1.4 to\n",
      "[nltk_data]     C:\\Users\\Asus\\AppData\\Roaming\\nltk_data...\n",
      "[nltk_data]   Package omw-1.4 is already up-to-date!\n"
     ]
    }
   ],
   "source": [
    "import re\n",
    "import nltk\n",
    "nltk.download('wordnet')\n",
    "nltk.download('omw-1.4')\n",
    "from nltk.corpus import stopwords\n",
    "from nltk.stem import WordNetLemmatizer"
   ]
  },
  {
   "cell_type": "code",
   "execution_count": 27,
   "id": "2fa13d8f",
   "metadata": {},
   "outputs": [],
   "source": [
    "lemmatizer = WordNetLemmatizer()\n",
    "stop_words = set(stopwords.words(\"english\")) "
   ]
  },
  {
   "cell_type": "code",
   "execution_count": 28,
   "id": "dee06a54",
   "metadata": {},
   "outputs": [],
   "source": [
    "def transformed_data(x):\n",
    "    if x is not None:\n",
    "        x = re.sub(r\"[-()\\\"#/@;:<>{}`+=~|!?,₹&'$%]\", \" \", x)\n",
    "        x = re.sub('[0-9]+', ' ', x)\n",
    "        x = re.sub(r'\\s+',' ',x)\n",
    "        x = x.lower()\n",
    "        x = [lemmatizer.lemmatize(token) for token in x.split(\" \")]\n",
    "        x = [lemmatizer.lemmatize(token, \"v\") for token in x]\n",
    "        x = [word for word in x if not word in stop_words]\n",
    "        x = \" \".join(x)\n",
    "        return x"
   ]
  },
  {
   "cell_type": "code",
   "execution_count": 29,
   "id": "6071fd76",
   "metadata": {},
   "outputs": [],
   "source": [
    "data['new_body'] = data['body'].apply(transformed_data)"
   ]
  },
  {
   "cell_type": "code",
   "execution_count": 30,
   "id": "9ca542f6",
   "metadata": {},
   "outputs": [],
   "source": [
    "data['message'] = data['message'].apply(transformed_data)"
   ]
  },
  {
   "cell_type": "code",
   "execution_count": 35,
   "id": "82daf8b7",
   "metadata": {},
   "outputs": [],
   "source": [
    "new_data = data.drop(['file', 'Message-ID', 'Date', 'From', 'To', 'Subject', 'Mime-Version',\n",
    "       'Content-Type', 'Content-Transfer-Encoding', 'X-From', 'X-To', 'X-cc',\n",
    "       'X-bcc', 'X-Folder', 'X-Origin', 'X-FileName','message'],axis=1)"
   ]
  },
  {
   "cell_type": "code",
   "execution_count": 36,
   "id": "23782791",
   "metadata": {},
   "outputs": [
    {
     "data": {
      "text/plain": [
       "Index(['body', 'new_body'], dtype='object')"
      ]
     },
     "execution_count": 36,
     "metadata": {},
     "output_type": "execute_result"
    }
   ],
   "source": [
    "new_data.columns"
   ]
  },
  {
   "cell_type": "code",
   "execution_count": 37,
   "id": "4fe87f11",
   "metadata": {},
   "outputs": [
    {
     "data": {
      "text/html": [
       "<div>\n",
       "<style scoped>\n",
       "    .dataframe tbody tr th:only-of-type {\n",
       "        vertical-align: middle;\n",
       "    }\n",
       "\n",
       "    .dataframe tbody tr th {\n",
       "        vertical-align: top;\n",
       "    }\n",
       "\n",
       "    .dataframe thead th {\n",
       "        text-align: right;\n",
       "    }\n",
       "</style>\n",
       "<table border=\"1\" class=\"dataframe\">\n",
       "  <thead>\n",
       "    <tr style=\"text-align: right;\">\n",
       "      <th></th>\n",
       "      <th>body</th>\n",
       "      <th>new_body</th>\n",
       "    </tr>\n",
       "  </thead>\n",
       "  <tbody>\n",
       "    <tr>\n",
       "      <th>285437</th>\n",
       "      <td>In support of Enron=01,s continuing efforts to...</td>\n",
       "      <td>support enron continue effort increase return ...</td>\n",
       "    </tr>\n",
       "    <tr>\n",
       "      <th>167976</th>\n",
       "      <td>The man whispered, \"God speak to me\" and a mea...</td>\n",
       "      <td>man whisper god speak meadowlark sang. man hea...</td>\n",
       "    </tr>\n",
       "    <tr>\n",
       "      <th>189913</th>\n",
       "      <td>Wonderful -- I'll let my counterparty know.  W...</td>\n",
       "      <td>wonderful let counterparty know. would let kno...</td>\n",
       "    </tr>\n",
       "    <tr>\n",
       "      <th>146903</th>\n",
       "      <td>Hey, I told everybody to leave the first two w...</td>\n",
       "      <td>hey tell everybody leave first two weekend nov...</td>\n",
       "    </tr>\n",
       "    <tr>\n",
       "      <th>223279</th>\n",
       "      <td>Shirley,\\n\\nHere it comes.\\n\\nVince\\n\\n\\n\\n\\n\\...</td>\n",
       "      <td>shirley comes. vince shirley crenshaw pm vince...</td>\n",
       "    </tr>\n",
       "  </tbody>\n",
       "</table>\n",
       "</div>"
      ],
      "text/plain": [
       "                                                     body  \\\n",
       "285437  In support of Enron=01,s continuing efforts to...   \n",
       "167976  The man whispered, \"God speak to me\" and a mea...   \n",
       "189913  Wonderful -- I'll let my counterparty know.  W...   \n",
       "146903  Hey, I told everybody to leave the first two w...   \n",
       "223279  Shirley,\\n\\nHere it comes.\\n\\nVince\\n\\n\\n\\n\\n\\...   \n",
       "\n",
       "                                                 new_body  \n",
       "285437  support enron continue effort increase return ...  \n",
       "167976  man whisper god speak meadowlark sang. man hea...  \n",
       "189913  wonderful let counterparty know. would let kno...  \n",
       "146903  hey tell everybody leave first two weekend nov...  \n",
       "223279  shirley comes. vince shirley crenshaw pm vince...  "
      ]
     },
     "execution_count": 37,
     "metadata": {},
     "output_type": "execute_result"
    }
   ],
   "source": [
    "new_data.sample(5)"
   ]
  },
  {
   "cell_type": "code",
   "execution_count": 39,
   "id": "b1078054",
   "metadata": {},
   "outputs": [
    {
     "name": "stdout",
     "output_type": "stream",
     "text": [
      "Collecting vaderSentiment\n",
      "  Downloading vaderSentiment-3.3.2-py2.py3-none-any.whl (125 kB)\n",
      "Requirement already satisfied: requests in c:\\users\\asus\\anaconda3\\python\\lib\\site-packages (from vaderSentiment) (2.27.1)\n",
      "Requirement already satisfied: idna<4,>=2.5 in c:\\users\\asus\\anaconda3\\python\\lib\\site-packages (from requests->vaderSentiment) (3.3)\n",
      "Requirement already satisfied: charset-normalizer~=2.0.0 in c:\\users\\asus\\anaconda3\\python\\lib\\site-packages (from requests->vaderSentiment) (2.0.4)\n",
      "Requirement already satisfied: certifi>=2017.4.17 in c:\\users\\asus\\anaconda3\\python\\lib\\site-packages (from requests->vaderSentiment) (2021.10.8)\n",
      "Requirement already satisfied: urllib3<1.27,>=1.21.1 in c:\\users\\asus\\anaconda3\\python\\lib\\site-packages (from requests->vaderSentiment) (1.26.9)\n",
      "Installing collected packages: vaderSentiment\n",
      "Successfully installed vaderSentiment-3.3.2\n"
     ]
    }
   ],
   "source": [
    "!pip install vaderSentiment\n",
    "import vaderSentiment\n",
    "# calling SentimentIntensityAnalyzer object\n",
    "from vaderSentiment.vaderSentiment import SentimentIntensityAnalyzer\n",
    "analyser = SentimentIntensityAnalyzer()"
   ]
  },
  {
   "cell_type": "code",
   "execution_count": 43,
   "id": "d325bb47",
   "metadata": {},
   "outputs": [],
   "source": [
    "# Using polarity scores for knowing the polarity of each text\n",
    "def sentiment_analyzer_score(sentence):\n",
    "    score = analyser.polarity_scores(sentence)\n",
    "    print(\"{:-<40} {}\".format(sentence, str(score)))"
   ]
  },
  {
   "cell_type": "code",
   "execution_count": 44,
   "id": "a64da370",
   "metadata": {},
   "outputs": [
    {
     "name": "stdout",
     "output_type": "stream",
     "text": [
      "I would love to watch the magic show again {'neg': 0.0, 'neu': 0.656, 'pos': 0.344, 'compound': 0.6369}\n",
      "None\n",
      "What the hell they have made. Pathetic!- {'neg': 0.632, 'neu': 0.368, 'pos': 0.0, 'compound': -0.8622}\n",
      "None\n",
      " I do not know what to do--------------- {'neg': 0.0, 'neu': 1.0, 'pos': 0.0, 'compound': 0.0}\n",
      "None\n"
     ]
    }
   ],
   "source": [
    "#testing the function\n",
    "email  = \"I would love to watch the magic show again\"\n",
    "email2 = \"What the hell they have made. Pathetic!\"\n",
    "email3 = \" I do not know what to do\"  \n",
    "print (sentiment_analyzer_score(email))\n",
    "print (sentiment_analyzer_score(email2))\n",
    "print (sentiment_analyzer_score(email3))"
   ]
  },
  {
   "cell_type": "code",
   "execution_count": 46,
   "id": "1dd89626",
   "metadata": {},
   "outputs": [
    {
     "data": {
      "text/html": [
       "<div>\n",
       "<style scoped>\n",
       "    .dataframe tbody tr th:only-of-type {\n",
       "        vertical-align: middle;\n",
       "    }\n",
       "\n",
       "    .dataframe tbody tr th {\n",
       "        vertical-align: top;\n",
       "    }\n",
       "\n",
       "    .dataframe thead th {\n",
       "        text-align: right;\n",
       "    }\n",
       "</style>\n",
       "<table border=\"1\" class=\"dataframe\">\n",
       "  <thead>\n",
       "    <tr style=\"text-align: right;\">\n",
       "      <th></th>\n",
       "      <th>body</th>\n",
       "      <th>new_body</th>\n",
       "      <th>scores</th>\n",
       "    </tr>\n",
       "  </thead>\n",
       "  <tbody>\n",
       "    <tr>\n",
       "      <th>186822</th>\n",
       "      <td>It would be nice if you could be at my dinner,...</td>\n",
       "      <td>would nice could dinner since probably win kno...</td>\n",
       "      <td>{'neg': 0.0, 'neu': 0.579, 'pos': 0.421, 'comp...</td>\n",
       "    </tr>\n",
       "    <tr>\n",
       "      <th>308790</th>\n",
       "      <td>Absolutely.  \\n\\n\\nFrom: Sheila Tweed@ECT on 0...</td>\n",
       "      <td>absolutely. sheila tweed ect pm kay mann corp ...</td>\n",
       "      <td>{'neg': 0.0, 'neu': 0.953, 'pos': 0.047, 'comp...</td>\n",
       "    </tr>\n",
       "    <tr>\n",
       "      <th>82383</th>\n",
       "      <td>Christine:\\n\\nMy apologies.  My schedule melte...</td>\n",
       "      <td>christine apologies. schedule melt talk monday...</td>\n",
       "      <td>{'neg': 0.112, 'neu': 0.702, 'pos': 0.186, 'co...</td>\n",
       "    </tr>\n",
       "    <tr>\n",
       "      <th>227299</th>\n",
       "      <td>Vince, \\nUK VAR breached the limit last week.\\...</td>\n",
       "      <td>vince uk var breach limit last week. uk trader...</td>\n",
       "      <td>{'neg': 0.06, 'neu': 0.803, 'pos': 0.136, 'com...</td>\n",
       "    </tr>\n",
       "    <tr>\n",
       "      <th>301824</th>\n",
       "      <td>Any problems/comments?\\n----------------------...</td>\n",
       "      <td>problem comment forward kay mann corp enron da...</td>\n",
       "      <td>{'neg': 0.044, 'neu': 0.842, 'pos': 0.114, 'co...</td>\n",
       "    </tr>\n",
       "  </tbody>\n",
       "</table>\n",
       "</div>"
      ],
      "text/plain": [
       "                                                     body  \\\n",
       "186822  It would be nice if you could be at my dinner,...   \n",
       "308790  Absolutely.  \\n\\n\\nFrom: Sheila Tweed@ECT on 0...   \n",
       "82383   Christine:\\n\\nMy apologies.  My schedule melte...   \n",
       "227299  Vince, \\nUK VAR breached the limit last week.\\...   \n",
       "301824  Any problems/comments?\\n----------------------...   \n",
       "\n",
       "                                                 new_body  \\\n",
       "186822  would nice could dinner since probably win kno...   \n",
       "308790  absolutely. sheila tweed ect pm kay mann corp ...   \n",
       "82383   christine apologies. schedule melt talk monday...   \n",
       "227299  vince uk var breach limit last week. uk trader...   \n",
       "301824  problem comment forward kay mann corp enron da...   \n",
       "\n",
       "                                                   scores  \n",
       "186822  {'neg': 0.0, 'neu': 0.579, 'pos': 0.421, 'comp...  \n",
       "308790  {'neg': 0.0, 'neu': 0.953, 'pos': 0.047, 'comp...  \n",
       "82383   {'neg': 0.112, 'neu': 0.702, 'pos': 0.186, 'co...  \n",
       "227299  {'neg': 0.06, 'neu': 0.803, 'pos': 0.136, 'com...  \n",
       "301824  {'neg': 0.044, 'neu': 0.842, 'pos': 0.114, 'co...  "
      ]
     },
     "execution_count": 46,
     "metadata": {},
     "output_type": "execute_result"
    }
   ],
   "source": [
    "new_data['scores'] = new_data['new_body'].apply(lambda x: analyser.polarity_scores(x))\n",
    "new_data.head()"
   ]
  },
  {
   "cell_type": "code",
   "execution_count": 47,
   "id": "ed23864a",
   "metadata": {},
   "outputs": [],
   "source": [
    "new_data['compound'] = new_data['scores'].apply(lambda x: x['compound'])"
   ]
  },
  {
   "cell_type": "code",
   "execution_count": 48,
   "id": "713c4023",
   "metadata": {},
   "outputs": [
    {
     "data": {
      "text/html": [
       "<div>\n",
       "<style scoped>\n",
       "    .dataframe tbody tr th:only-of-type {\n",
       "        vertical-align: middle;\n",
       "    }\n",
       "\n",
       "    .dataframe tbody tr th {\n",
       "        vertical-align: top;\n",
       "    }\n",
       "\n",
       "    .dataframe thead th {\n",
       "        text-align: right;\n",
       "    }\n",
       "</style>\n",
       "<table border=\"1\" class=\"dataframe\">\n",
       "  <thead>\n",
       "    <tr style=\"text-align: right;\">\n",
       "      <th></th>\n",
       "      <th>body</th>\n",
       "      <th>new_body</th>\n",
       "      <th>scores</th>\n",
       "      <th>compound</th>\n",
       "    </tr>\n",
       "  </thead>\n",
       "  <tbody>\n",
       "    <tr>\n",
       "      <th>186822</th>\n",
       "      <td>It would be nice if you could be at my dinner,...</td>\n",
       "      <td>would nice could dinner since probably win kno...</td>\n",
       "      <td>{'neg': 0.0, 'neu': 0.579, 'pos': 0.421, 'comp...</td>\n",
       "      <td>0.8720</td>\n",
       "    </tr>\n",
       "    <tr>\n",
       "      <th>308790</th>\n",
       "      <td>Absolutely.  \\n\\n\\nFrom: Sheila Tweed@ECT on 0...</td>\n",
       "      <td>absolutely. sheila tweed ect pm kay mann corp ...</td>\n",
       "      <td>{'neg': 0.0, 'neu': 0.953, 'pos': 0.047, 'comp...</td>\n",
       "      <td>0.4404</td>\n",
       "    </tr>\n",
       "    <tr>\n",
       "      <th>82383</th>\n",
       "      <td>Christine:\\n\\nMy apologies.  My schedule melte...</td>\n",
       "      <td>christine apologies. schedule melt talk monday...</td>\n",
       "      <td>{'neg': 0.112, 'neu': 0.702, 'pos': 0.186, 'co...</td>\n",
       "      <td>0.6369</td>\n",
       "    </tr>\n",
       "    <tr>\n",
       "      <th>227299</th>\n",
       "      <td>Vince, \\nUK VAR breached the limit last week.\\...</td>\n",
       "      <td>vince uk var breach limit last week. uk trader...</td>\n",
       "      <td>{'neg': 0.06, 'neu': 0.803, 'pos': 0.136, 'com...</td>\n",
       "      <td>0.9922</td>\n",
       "    </tr>\n",
       "    <tr>\n",
       "      <th>301824</th>\n",
       "      <td>Any problems/comments?\\n----------------------...</td>\n",
       "      <td>problem comment forward kay mann corp enron da...</td>\n",
       "      <td>{'neg': 0.044, 'neu': 0.842, 'pos': 0.114, 'co...</td>\n",
       "      <td>0.8020</td>\n",
       "    </tr>\n",
       "  </tbody>\n",
       "</table>\n",
       "</div>"
      ],
      "text/plain": [
       "                                                     body  \\\n",
       "186822  It would be nice if you could be at my dinner,...   \n",
       "308790  Absolutely.  \\n\\n\\nFrom: Sheila Tweed@ECT on 0...   \n",
       "82383   Christine:\\n\\nMy apologies.  My schedule melte...   \n",
       "227299  Vince, \\nUK VAR breached the limit last week.\\...   \n",
       "301824  Any problems/comments?\\n----------------------...   \n",
       "\n",
       "                                                 new_body  \\\n",
       "186822  would nice could dinner since probably win kno...   \n",
       "308790  absolutely. sheila tweed ect pm kay mann corp ...   \n",
       "82383   christine apologies. schedule melt talk monday...   \n",
       "227299  vince uk var breach limit last week. uk trader...   \n",
       "301824  problem comment forward kay mann corp enron da...   \n",
       "\n",
       "                                                   scores  compound  \n",
       "186822  {'neg': 0.0, 'neu': 0.579, 'pos': 0.421, 'comp...    0.8720  \n",
       "308790  {'neg': 0.0, 'neu': 0.953, 'pos': 0.047, 'comp...    0.4404  \n",
       "82383   {'neg': 0.112, 'neu': 0.702, 'pos': 0.186, 'co...    0.6369  \n",
       "227299  {'neg': 0.06, 'neu': 0.803, 'pos': 0.136, 'com...    0.9922  \n",
       "301824  {'neg': 0.044, 'neu': 0.842, 'pos': 0.114, 'co...    0.8020  "
      ]
     },
     "execution_count": 48,
     "metadata": {},
     "output_type": "execute_result"
    }
   ],
   "source": [
    "new_data.head()"
   ]
  },
  {
   "cell_type": "markdown",
   "id": "07ca3513",
   "metadata": {},
   "source": [
    "# The typical thresholds standardized for classifying sentences as positve, negative, neutral are:\n",
    "## 1) positive sentiment: compound score >= 0.05\n",
    "## 2) neutral sentiment: (compound score > -0.05) and (compound score < 0.05)\n",
    "## 3) negative sentiment: compound score <= -0.05"
   ]
  },
  {
   "cell_type": "code",
   "execution_count": 52,
   "id": "54ddf600",
   "metadata": {},
   "outputs": [],
   "source": [
    "def Sentiment(x):\n",
    "    if x>=0.05:\n",
    "        return 'Positive'\n",
    "    elif x<=-0.05:\n",
    "        return 'Negative'\n",
    "    else:\n",
    "        return 'Neutral'"
   ]
  },
  {
   "cell_type": "code",
   "execution_count": 53,
   "id": "b7c874ba",
   "metadata": {},
   "outputs": [],
   "source": [
    "new_data['Sentiment'] = new_data['compound'].apply(Sentiment)"
   ]
  },
  {
   "cell_type": "code",
   "execution_count": 54,
   "id": "2bb1cf69",
   "metadata": {},
   "outputs": [
    {
     "data": {
      "text/html": [
       "<div>\n",
       "<style scoped>\n",
       "    .dataframe tbody tr th:only-of-type {\n",
       "        vertical-align: middle;\n",
       "    }\n",
       "\n",
       "    .dataframe tbody tr th {\n",
       "        vertical-align: top;\n",
       "    }\n",
       "\n",
       "    .dataframe thead th {\n",
       "        text-align: right;\n",
       "    }\n",
       "</style>\n",
       "<table border=\"1\" class=\"dataframe\">\n",
       "  <thead>\n",
       "    <tr style=\"text-align: right;\">\n",
       "      <th></th>\n",
       "      <th>body</th>\n",
       "      <th>new_body</th>\n",
       "      <th>scores</th>\n",
       "      <th>compound</th>\n",
       "      <th>Sentiment</th>\n",
       "    </tr>\n",
       "  </thead>\n",
       "  <tbody>\n",
       "    <tr>\n",
       "      <th>223116</th>\n",
       "      <td>\\nZimin,\\n\\nCan you interview him over the pho...</td>\n",
       "      <td>zimin interview phone vince original message ...</td>\n",
       "      <td>{'neg': 0.0, 'neu': 0.818, 'pos': 0.182, 'comp...</td>\n",
       "      <td>0.9820</td>\n",
       "      <td>Positive</td>\n",
       "    </tr>\n",
       "    <tr>\n",
       "      <th>171265</th>\n",
       "      <td>The Resolution Center will be decommissioning ...</td>\n",
       "      <td>resolution center decommission one number janu...</td>\n",
       "      <td>{'neg': 0.012, 'neu': 0.828, 'pos': 0.161, 'co...</td>\n",
       "      <td>0.9169</td>\n",
       "      <td>Positive</td>\n",
       "    </tr>\n",
       "    <tr>\n",
       "      <th>196636</th>\n",
       "      <td>My favorite election comment to date comes fro...</td>\n",
       "      <td>favorite election comment date come gore say t...</td>\n",
       "      <td>{'neg': 0.0, 'neu': 0.714, 'pos': 0.286, 'comp...</td>\n",
       "      <td>0.6808</td>\n",
       "      <td>Positive</td>\n",
       "    </tr>\n",
       "    <tr>\n",
       "      <th>41257</th>\n",
       "      <td>Larry,\\nAttached is the current estimate for t...</td>\n",
       "      <td>larry attach current estimate remediation site...</td>\n",
       "      <td>{'neg': 0.0, 'neu': 1.0, 'pos': 0.0, 'compound...</td>\n",
       "      <td>0.0000</td>\n",
       "      <td>Neutral</td>\n",
       "    </tr>\n",
       "    <tr>\n",
       "      <th>457029</th>\n",
       "      <td>\\n =09\\n\\n\\n[IMAGE]=09\\n\\n\\n =09              ...</td>\n",
       "      <td>[image] get best la vega strip penny dollar v...</td>\n",
       "      <td>{'neg': 0.015, 'neu': 0.816, 'pos': 0.17, 'com...</td>\n",
       "      <td>0.9921</td>\n",
       "      <td>Positive</td>\n",
       "    </tr>\n",
       "  </tbody>\n",
       "</table>\n",
       "</div>"
      ],
      "text/plain": [
       "                                                     body  \\\n",
       "223116  \\nZimin,\\n\\nCan you interview him over the pho...   \n",
       "171265  The Resolution Center will be decommissioning ...   \n",
       "196636  My favorite election comment to date comes fro...   \n",
       "41257   Larry,\\nAttached is the current estimate for t...   \n",
       "457029  \\n =09\\n\\n\\n[IMAGE]=09\\n\\n\\n =09              ...   \n",
       "\n",
       "                                                 new_body  \\\n",
       "223116   zimin interview phone vince original message ...   \n",
       "171265  resolution center decommission one number janu...   \n",
       "196636  favorite election comment date come gore say t...   \n",
       "41257   larry attach current estimate remediation site...   \n",
       "457029   [image] get best la vega strip penny dollar v...   \n",
       "\n",
       "                                                   scores  compound Sentiment  \n",
       "223116  {'neg': 0.0, 'neu': 0.818, 'pos': 0.182, 'comp...    0.9820  Positive  \n",
       "171265  {'neg': 0.012, 'neu': 0.828, 'pos': 0.161, 'co...    0.9169  Positive  \n",
       "196636  {'neg': 0.0, 'neu': 0.714, 'pos': 0.286, 'comp...    0.6808  Positive  \n",
       "41257   {'neg': 0.0, 'neu': 1.0, 'pos': 0.0, 'compound...    0.0000   Neutral  \n",
       "457029  {'neg': 0.015, 'neu': 0.816, 'pos': 0.17, 'com...    0.9921  Positive  "
      ]
     },
     "execution_count": 54,
     "metadata": {},
     "output_type": "execute_result"
    }
   ],
   "source": [
    "new_data.sample(5)"
   ]
  },
  {
   "cell_type": "code",
   "execution_count": 71,
   "id": "a72e7e05",
   "metadata": {},
   "outputs": [
    {
     "data": {
      "text/plain": [
       "<AxesSubplot:ylabel='Sentiment'>"
      ]
     },
     "execution_count": 71,
     "metadata": {},
     "output_type": "execute_result"
    },
    {
     "data": {
      "image/png": "[encoded data removed]",
      "text/plain": [
       "<Figure size 432x288 with 1 Axes>"
      ]
     },
     "metadata": {},
     "output_type": "display_data"
    }
   ],
   "source": [
    "new_data['Sentiment'].value_counts().plot(kind='pie',autopct='%0.2f')"
   ]
  },
  {
   "cell_type": "code",
   "execution_count": null,
   "id": "d8e0aa9a",
   "metadata": {},
   "outputs": [],
   "source": []
  }
 ],
 "metadata": {
  "kernelspec": {
   "display_name": "Python 3 (ipykernel)",
   "language": "python",
   "name": "python3"
  },
  "language_info": {
   "codemirror_mode": {
    "name": "ipython",
    "version": 3
   },
   "file_extension": ".py",
   "mimetype": "text/x-python",
   "name": "python",
   "nbconvert_exporter": "python",
   "pygments_lexer": "ipython3",
   "version": "3.9.12"
  }
 },
 "nbformat": 4,
 "nbformat_minor": 5
}
